{
 "cells": [
  {
   "cell_type": "code",
   "execution_count": 3,
   "metadata": {},
   "outputs": [],
   "source": [
    "import numpy as np\n",
    "import pandas as pd\n",
    "from tabpfniml.datasets.datasets import OpenMLData"
   ]
  },
  {
   "cell_type": "markdown",
   "metadata": {},
   "source": [
    "### Retrieve the pima diabetes dataset"
   ]
  },
  {
   "cell_type": "code",
   "execution_count": 7,
   "metadata": {},
   "outputs": [],
   "source": [
    "diabetes = pd.read_csv('https://raw.githubusercontent.com/npradaschnor/Pima-Indians-Diabetes-Dataset/master/diabetes.csv')\n",
    "\n",
    "X = diabetes.drop(columns='Outcome')\n",
    "y = diabetes['Outcome'] \n",
    "\n",
    "diabetes_data = OpenMLData(\"diabetes\", X, y, categorical_features_idx=[0], feature_names=X.columns)\n",
    "diabetes_data.id_to_target_name = {1: 'Diabetes'}\n",
    "\n",
    "n_train = int(0.8 * X.shape[0])\n",
    "n_test = int(0.2 * y.shape[0])"
   ]
  }
 ],
 "metadata": {
  "kernelspec": {
   "display_name": "tabpfn",
   "language": "python",
   "name": "python3"
  },
  "language_info": {
   "codemirror_mode": {
    "name": "ipython",
    "version": 3
   },
   "file_extension": ".py",
   "mimetype": "text/x-python",
   "name": "python",
   "nbconvert_exporter": "python",
   "pygments_lexer": "ipython3",
   "version": "3.9.18"
  }
 },
 "nbformat": 4,
 "nbformat_minor": 2
}
